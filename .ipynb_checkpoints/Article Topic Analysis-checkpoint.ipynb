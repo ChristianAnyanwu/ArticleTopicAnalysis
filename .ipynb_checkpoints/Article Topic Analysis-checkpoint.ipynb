{
 "cells": [
  {
   "cell_type": "markdown",
   "metadata": {},
   "source": [
    "# Article Topic Analysis\n",
    "## Overview\n",
    "The purpose of this repository is to analyse,visualize,and list the topics included in a set of articles.<br>\n",
    "These articles come from a dataset I have created over the last two years by collecting the URLs of articles of interest.\n",
    "## Process\n",
    "1. Data Extraction: Download text from each url (using BeautifuSoup)\n",
    "2. Data Cleansing: Clean dataset with common NLP techniques (stopword removal, lemmatization, etc.) (using NLTK)\n",
    "3. Saving Data: Saving the extracted dataset\n",
    "4. Data Visualization: Visualize with PCA or T-SNE (using Scikit-learn)\n",
    "5. "
   ]
  },
  {
   "cell_type": "code",
   "execution_count": 29,
   "metadata": {
    "collapsed": true
   },
   "outputs": [],
   "source": [
    "# Imports\n",
    "\n",
    "#NLP\n",
    "from nltk import sent_tokenize, word_tokenize, pos_tag\n",
    "from nltk.corpus import stopwords\n",
    "from nltk.corpus import wordnet\n",
    "from nltk.stem import WordNetLemmatizer\n",
    "\n",
    "#website scraping\n",
    "from urllib.request import urlopen\n",
    "from bs4 import BeautifulSoup\n",
    "\n",
    "#file manipulation\n",
    "import pickle\n",
    "import glob\n",
    "import csv\n",
    "\n",
    "#data manipulation\n",
    "import numpy as np\n",
    "import pandas as pd\n",
    "from collections import defaultdict\n",
    "\n",
    "#dimensionality reduction\n",
    "from sklearn.decomposition import PCA\n",
    "from sklearn.manifold import TSNE\n",
    "\n",
    "#visualization\n",
    "%matplotlib inline\n",
    "import matplotlib.pyplot as plt\n",
    "import seaborn as sns\n",
    "\n",
    "#utils\n",
    "import time"
   ]
  },
  {
   "cell_type": "markdown",
   "metadata": {},
   "source": [
    "## Data Extraction and Cleansing"
   ]
  },
  {
   "cell_type": "code",
   "execution_count": 2,
   "metadata": {
    "collapsed": true
   },
   "outputs": [],
   "source": [
    "# text extraction\n",
    "def openUrlAndExtractText(url):\n",
    "    site  = urlopen(url)\n",
    "    soup = BeautifulSoup(site, \"html.parser\")\n",
    "    [s.extract() for s in soup(['style', 'script', '[document]', 'head', 'title'])]\n",
    "    text = soup.getText()\n",
    "    text = text.lower()\n",
    "    \n",
    "    return text\n",
    "    \n",
    "def extractSentencesFromText(text,minSizeOfSentence):\n",
    "    sentences = text.split(\"\\n\")\n",
    "    \n",
    "    #remove short sentences\n",
    "    sentences = [elem for elem in sentences if len(elem) >= minSizeOfSentence]\n",
    "    \n",
    "    extractedSentences = []\n",
    "    #checking for multiple sentences within each line with nltk\n",
    "    for sentence in sentences:\n",
    "        extractedSentences.extend(sent_tokenize(sentence))\n",
    "        \n",
    "    return extractedSentences\n",
    "\n",
    "def cleanSentences(sentences):\n",
    "    cleanSentences = []\n",
    "    for sentence in sentences:\n",
    "        if len(sentence) <= 1:\n",
    "            continue\n",
    "        cleanSentences.append(sentence.strip())\n",
    "        \n",
    "    return cleanSentences\n",
    "\n",
    "def turnSenteceListToWordCountDict(sentences):\n",
    "    wordCountDict = defaultdict(int)\n",
    "    for s in sentences:\n",
    "        words = word_tokenize(s)\n",
    "        for word in words:\n",
    "            wordCountDict[word] += 1\n",
    "    return wordCountDict\n"
   ]
  },
  {
   "cell_type": "code",
   "execution_count": 3,
   "metadata": {
    "collapsed": true
   },
   "outputs": [],
   "source": [
    "#loading dataset\n",
    "def getDatasetURLList(fileLoc):\n",
    "    dataUrls = []\n",
    "\n",
    "    with open(fileLoc) as csvfile:\n",
    "        readCSV = csv.reader(csvfile, delimiter=',')\n",
    "        for row in readCSV:\n",
    "            dataUrls.append(row[0])\n",
    "    return dataUrls\n",
    "\n"
   ]
  },
  {
   "cell_type": "markdown",
   "metadata": {},
   "source": [
    "## NLP Cleansing"
   ]
  },
  {
   "cell_type": "code",
   "execution_count": 4,
   "metadata": {
    "collapsed": true
   },
   "outputs": [],
   "source": [
    "#nlp cleaning methods\n",
    "def nlpCleaning(wordCountDict):\n",
    "    #remove stop words\n",
    "    wordCountDict = removeStopWords(wordCountDict)\n",
    "    \n",
    "    #lemmatize words\n",
    "    wordCountDict = lemmatizeWordCountDict(wordCountDict)\n",
    "    \n",
    "    #\n",
    "    \n",
    "    return wordCountDict\n",
    "\n",
    "def removeStopWords(wordCountDict):\n",
    "    cleanedWordCountDict = defaultdict(int)\n",
    "    \n",
    "    for word,count in wordCountDict.items():\n",
    "        if word not in stopwords.words('english'):\n",
    "            cleanedWordCountDict[word] = count\n",
    "    \n",
    "    return cleanedWordCountDict\n",
    "        \n",
    "def lemmatizeWordCountDict(wordCountDict):\n",
    "    lemmatizedWordCountDict = defaultdict(int)\n",
    "    \n",
    "    lemmatizer = WordNetLemmatizer()\n",
    "    \n",
    "    for word,count in wordCountDict.items():\n",
    "        lemmatizedWordCountDict[lemmatizer.lemmatize(word, get_wordnet_pos(word))] += count\n",
    "    \n",
    "    return lemmatizedWordCountDict\n",
    "\n",
    "def get_wordnet_pos(word):\n",
    "    \"\"\"Map POS tag to first character lemmatize() accepts\"\"\"\n",
    "    tag = pos_tag([word])[0][1][0].upper()\n",
    "    tag_dict = {\"J\": wordnet.ADJ,\n",
    "                \"N\": wordnet.NOUN,\n",
    "                \"V\": wordnet.VERB,\n",
    "                \"R\": wordnet.ADV}\n",
    "\n",
    "    return tag_dict.get(tag, wordnet.NOUN)"
   ]
  },
  {
   "cell_type": "markdown",
   "metadata": {},
   "source": [
    "# Running Data extraction"
   ]
  },
  {
   "cell_type": "code",
   "execution_count": null,
   "metadata": {
    "scrolled": false
   },
   "outputs": [
    {
     "name": "stdout",
     "output_type": "stream",
     "text": [
      "Starting\n",
      "10\n",
      "20\n",
      "30\n"
     ]
    }
   ],
   "source": [
    "#Input variables\n",
    "dataSetCSVLocation = 'Data/Article_urls_KeepTransfer0_5.csv'\n",
    "dataUrls = getDatasetURLList(dataSetCSVLocation)\n",
    "\n",
    "minSizeOfSentence = 2\n",
    "\n",
    "articlesPerSaveFile = 25\n",
    "\n",
    "#other variables\n",
    "wordCountDicts = []\n",
    "\n",
    "successes = 0\n",
    "errors = 0\n",
    "\n",
    "start = time.time()\n",
    "\n",
    "print(\"Starting\")\n",
    "#extracting the data from each url\n",
    "for url in dataUrls[177:]:\n",
    "    if successes + errors == 177:\n",
    "        continue\n",
    "    try:\n",
    "        #extracting raw text from site\n",
    "        rawText =  openUrlAndExtractText(url)\n",
    "        #finding sentences in the text\n",
    "        rawSentences = extractSentencesFromText(rawText,minSizeOfSentence)\n",
    "        #cleaning sentences up\n",
    "        cleanedSentences = cleanSentences(rawSentences)\n",
    "\n",
    "        wordCountDict = turnSenteceListToWordCountDict(cleanedSentences)\n",
    "\n",
    "        cleanedWordCountDict = nlpCleaning(wordCountDict)\n",
    "\n",
    "        wordCountDicts.append(cleanedWordCountDict)\n",
    "        successes += 1\n",
    "        \n",
    "        if successes % articlesPerSaveFile == 0:\n",
    "            with open('Data/Datafiles/_'+str(successes)+'.pickle', 'wb') as handle:\n",
    "                pickle.dump(wordCountDicts, handle, protocol=pickle.HIGHEST_PROTOCOL)\n",
    "                wordCountDicts = []\n",
    "            print(\"Articles attempted:\",successes+errors,\"\\n\",successes, \"saved\\t\", \"Time Since Start:\",time.time()-start)\n",
    "    except:\n",
    "        errors += 1\n",
    "        #print(url)\n",
    "    if (successes+errors) % 10 == 0:\n",
    "            print(successes+errors)\n",
    "    \n",
    "print(\"Done\")"
   ]
  },
  {
   "cell_type": "code",
   "execution_count": 75,
   "metadata": {},
   "outputs": [
    {
     "data": {
      "text/plain": [
       "(225, 25697)"
      ]
     },
     "execution_count": 75,
     "metadata": {},
     "output_type": "execute_result"
    }
   ],
   "source": [
    "df = pd.DataFrame()\n",
    "\n",
    "for file in glob.glob('Data/Datafiles/*'):\n",
    "    data = pickle.load(open(file, 'rb'))\n",
    "    dfTemp = pd.DataFrame.from_dict(data)\n",
    "    df = df.append(dfTemp)\n",
    "df = df.fillna(0)\n",
    "df.shape"
   ]
  },
  {
   "cell_type": "code",
   "execution_count": 69,
   "metadata": {},
   "outputs": [
    {
     "name": "stdout",
     "output_type": "stream",
     "text": [
      "Explained variation per principal component: [0.85600371 0.08201403]\n"
     ]
    },
    {
     "data": {
      "text/plain": [
       "<matplotlib.collections.PathCollection at 0x25ea22527b8>"
      ]
     },
     "execution_count": 69,
     "metadata": {},
     "output_type": "execute_result"
    },
    {
     "data": {
      "image/png": "[encoded data removed]",
      "text/plain": [
       "<matplotlib.figure.Figure at 0x25ea19184e0>"
      ]
     },
     "metadata": {},
     "output_type": "display_data"
    }
   ],
   "source": [
    "pca = PCA(n_components=2)\n",
    "pca_result = pca.fit_transform(df.values)\n",
    "df['pca-one'] = pca_result[:,0]\n",
    "df['pca-two'] = pca_result[:,1] \n",
    "print('Explained variation per principal component: {}'.format(pca.explained_variance_ratio_))\n",
    "plt.scatter(df[\"pca-one\"], df[\"pca-two\"])"
   ]
  },
  {
   "cell_type": "code",
   "execution_count": 67,
   "metadata": {},
   "outputs": [],
   "source": [
    "comps = pd.DataFrame(pca.components_,columns=df.columns,index = ['pca-one','pca-two'])\n",
    "comps = comps.transpose()\n",
    "comps = comps.sort_values('pca-two', ascending=False)\n",
    "#comps"
   ]
  },
  {
   "cell_type": "code",
   "execution_count": 85,
   "metadata": {},
   "outputs": [
    {
     "name": "stdout",
     "output_type": "stream",
     "text": [
      "[t-SNE] Computing 13 nearest neighbors...\n",
      "[t-SNE] Indexed 225 samples in 0.002s...\n",
      "[t-SNE] Computed neighbors for 225 samples in 0.007s...\n",
      "[t-SNE] Computed conditional probabilities for sample 225 / 225\n",
      "[t-SNE] Mean sigma: 5.080346\n",
      "[t-SNE] KL divergence after 250 iterations with early exaggeration: 77.211761\n",
      "[t-SNE] Error after 300 iterations: 1.393620\n",
      "t-SNE done! Time elapsed: 0.6984126567840576 seconds\n"
     ]
    }
   ],
   "source": [
    "pca = PCA(n_components=100)\n",
    "pca_result = pca.fit_transform(df.values)\n",
    "\n",
    "time_start = time.time()\n",
    "tsne = TSNE(n_components=2, verbose=1, perplexity=4, n_iter=300)\n",
    "tsne_results = tsne.fit_transform(pca_result)\n",
    "print('t-SNE done! Time elapsed: {} seconds'.format(time.time()-time_start))"
   ]
  },
  {
   "cell_type": "code",
   "execution_count": 86,
   "metadata": {},
   "outputs": [
    {
     "data": {
      "text/plain": [
       "<matplotlib.collections.PathCollection at 0x25ea22f02b0>"
      ]
     },
     "execution_count": 86,
     "metadata": {},
     "output_type": "execute_result"
    },
    {
     "data": {
      "image/png": "[encoded data removed]",
      "text/plain": [
       "<matplotlib.figure.Figure at 0x25ea427ba20>"
      ]
     },
     "metadata": {},
     "output_type": "display_data"
    }
   ],
   "source": [
    "df['tsne-2d-one'] = tsne_results[:,0]\n",
    "df['tsne-2d-two'] = tsne_results[:,1]\n",
    "plt.scatter(df[\"tsne-2d-one\"], df[\"tsne-2d-two\"])"
   ]
  },
  {
   "cell_type": "code",
   "execution_count": null,
   "metadata": {
    "collapsed": true
   },
   "outputs": [],
   "source": []
  }
 ],
 "metadata": {
  "kernelspec": {
   "display_name": "Python 3",
   "language": "python",
   "name": "python3"
  },
  "language_info": {
   "codemirror_mode": {
    "name": "ipython",
    "version": 3
   },
   "file_extension": ".py",
   "mimetype": "text/x-python",
   "name": "python",
   "nbconvert_exporter": "python",
   "pygments_lexer": "ipython3",
   "version": "3.6.3"
  }
 },
 "nbformat": 4,
 "nbformat_minor": 2
}
